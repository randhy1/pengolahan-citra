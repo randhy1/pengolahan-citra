{
 "cells": [
  {
   "attachments": {},
   "cell_type": "markdown",
   "id": "5c9b8117",
   "metadata": {},
   "source": [
    "# Transformasi Negatif"
   ]
  },
  {
   "cell_type": "code",
   "execution_count": 1,
   "id": "e6710d2e",
   "metadata": {},
   "outputs": [],
   "source": [
    "import cv2"
   ]
  },
  {
   "cell_type": "markdown",
   "id": "59444cf2",
   "metadata": {},
   "source": [
    "## Mengambil Gambar"
   ]
  },
  {
   "cell_type": "code",
   "execution_count": 5,
   "id": "d64a0c10",
   "metadata": {},
   "outputs": [],
   "source": [
    "img = cv2.imread(\"mammogram.jpg\", 0)"
   ]
  },
  {
   "cell_type": "markdown",
   "id": "f81178f9",
   "metadata": {},
   "source": [
    "## Trasformasi Gambar ke Negatif"
   ]
  },
  {
   "cell_type": "code",
   "execution_count": 3,
   "id": "cf836532",
   "metadata": {},
   "outputs": [],
   "source": [
    "img_1 = 255 - img"
   ]
  },
  {
   "cell_type": "markdown",
   "id": "7474ce4c",
   "metadata": {},
   "source": [
    "## Menampilkan Gambar"
   ]
  },
  {
   "cell_type": "code",
   "execution_count": 6,
   "id": "b4dae901",
   "metadata": {},
   "outputs": [],
   "source": [
    "cv2.imshow(\"Original Image\", img)\n",
    "cv2.imshow(\"Image Negative\", img_1)\n",
    "\n",
    "cv2.waitKey(0)\n",
    "cv2.destroyAllWindows()"
   ]
  },
  {
   "cell_type": "code",
   "execution_count": null,
   "id": "d06e2ebe",
   "metadata": {},
   "outputs": [],
   "source": []
  }
 ],
 "metadata": {
  "kernelspec": {
   "display_name": "Python 3",
   "language": "python",
   "name": "python3"
  },
  "language_info": {
   "codemirror_mode": {
    "name": "ipython",
    "version": 3
   },
   "file_extension": ".py",
   "mimetype": "text/x-python",
   "name": "python",
   "nbconvert_exporter": "python",
   "pygments_lexer": "ipython3",
   "version": "3.8.8"
  }
 },
 "nbformat": 4,
 "nbformat_minor": 5
}
