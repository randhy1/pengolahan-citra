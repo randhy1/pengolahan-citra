{
 "cells": [
  {
   "cell_type": "markdown",
   "id": "969bcb57",
   "metadata": {},
   "source": [
    "# Mengubah Gambar RGB ke Grayscale"
   ]
  },
  {
   "cell_type": "code",
   "execution_count": 1,
   "id": "0d712098",
   "metadata": {},
   "outputs": [],
   "source": [
    "import cv2"
   ]
  },
  {
   "cell_type": "markdown",
   "id": "ec2b37d5",
   "metadata": {},
   "source": [
    "## Mengambil Gambar"
   ]
  },
  {
   "cell_type": "code",
   "execution_count": 2,
   "id": "2e30a91f",
   "metadata": {},
   "outputs": [],
   "source": [
    "img = cv2.imread(\"lena.jpeg\")"
   ]
  },
  {
   "cell_type": "markdown",
   "id": "877e73cb",
   "metadata": {},
   "source": [
    "## Mengubah Ke graiscale"
   ]
  },
  {
   "cell_type": "code",
   "execution_count": 3,
   "id": "d73a6be3",
   "metadata": {},
   "outputs": [],
   "source": [
    "gray = cv2.cvtColor(img, cv2.COLOR_BGRA2GRAY)"
   ]
  },
  {
   "cell_type": "markdown",
   "id": "ecc765b1",
   "metadata": {},
   "source": [
    "## Menampilkan Gambar"
   ]
  },
  {
   "cell_type": "code",
   "execution_count": 4,
   "id": "68488ec4",
   "metadata": {},
   "outputs": [],
   "source": [
    "cv2.imshow(\"Original\", img)\n",
    "cv2.imshow(\"Graycsale\", gray)\n",
    "\n",
    "cv2.waitKey(0)\n",
    "cv2.destroyAllWindows()"
   ]
  },
  {
   "cell_type": "code",
   "execution_count": null,
   "id": "d596ac2c",
   "metadata": {},
   "outputs": [],
   "source": []
  }
 ],
 "metadata": {
  "kernelspec": {
   "display_name": "Python 3",
   "language": "python",
   "name": "python3"
  },
  "language_info": {
   "codemirror_mode": {
    "name": "ipython",
    "version": 3
   },
   "file_extension": ".py",
   "mimetype": "text/x-python",
   "name": "python",
   "nbconvert_exporter": "python",
   "pygments_lexer": "ipython3",
   "version": "3.8.8"
  }
 },
 "nbformat": 4,
 "nbformat_minor": 5
}
